{
 "cells": [
  {
   "cell_type": "code",
   "execution_count": 1,
   "id": "d5bfae0f-2e99-4834-93a4-35ee6ed0eca8",
   "metadata": {},
   "outputs": [
    {
     "name": "stdout",
     "output_type": "stream",
     "text": [
      "Combined accuracies saved to accuracy_000.npz: {}\n"
     ]
    }
   ],
   "source": [
    "#--- 2025-09-13 21-43 – by Dr. Thawatchai Chomsiri\n",
    "import numpy as np\n",
    "import os\n",
    "\n",
    "# รายชื่อไฟล์ที่ต้องการอ่าน\n",
    "activation_files = [\n",
    "    \"accuracy_000_LSGELU9999.npz\",\n",
    "    \"accuracy_000_LSGELU9950.npz\",\n",
    "\n",
    "    \"accuracy_000_GELU.npz\",    \n",
    "    #\"accuracy_000_LSGELU9900.npz\",\n",
    "    #\"accuracy_000_LSGELU9750.npz\",\n",
    "    #\"accuracy_000_LSGELU9500.npz\",\n",
    "    #\"accuracy_000_LSGELU9332.npz\",\n",
    "    #\"accuracy_000_LSGELU9250.npz\",\n",
    "    #\"accuracy_000_LSGELU9000.npz\",\n",
    "    #\"accuracy_000_LSGELU8000.npz\",\n",
    "    #\"accuracy_000_LSGELU7500.npz\",\n",
    "    #\"accuracy_000_LSGELU6666.npz\",\n",
    "    \n",
    "    #\"accuracy_000_Swish.npz\",\n",
    "    #\"accuracy_000_ELU.npz\",\n",
    "    #\"accuracy_000_ReLU.npz\",\n",
    "    \n",
    "]\n",
    "\n",
    "# Dictionary เพื่อเก็บความแม่นยำของแต่ละ activation function\n",
    "combined_accuracies = {}\n",
    "\n",
    "# อ่านแต่ละไฟล์และดึงค่าความแม่นยำออกมา\n",
    "for file in activation_files:\n",
    "    if os.path.exists(file):\n",
    "        with np.load(file) as data:\n",
    "            # Extract the activation name from the filename\n",
    "            activation_name = file.split('_')[2].replace('.npz', '')\n",
    "            # Store the accuracy\n",
    "            combined_accuracies[activation_name] = data['accuracy']\n",
    "\n",
    "# บันทึกค่า combined เป็นไฟล์เดียว\n",
    "np.savez(\"accuracy_000.npz\", **combined_accuracies)\n",
    "\n",
    "print(f\"Combined accuracies saved to accuracy_000.npz: {combined_accuracies}\")\n"
   ]
  },
  {
   "cell_type": "code",
   "execution_count": null,
   "id": "d7c6b62d-94d6-4ac8-bd03-226c7a8fec15",
   "metadata": {},
   "outputs": [],
   "source": []
  }
 ],
 "metadata": {
  "kernelspec": {
   "display_name": "Python 3 (ipykernel)",
   "language": "python",
   "name": "python3"
  },
  "language_info": {
   "codemirror_mode": {
    "name": "ipython",
    "version": 3
   },
   "file_extension": ".py",
   "mimetype": "text/x-python",
   "name": "python",
   "nbconvert_exporter": "python",
   "pygments_lexer": "ipython3",
   "version": "3.12.10"
  }
 },
 "nbformat": 4,
 "nbformat_minor": 5
}
